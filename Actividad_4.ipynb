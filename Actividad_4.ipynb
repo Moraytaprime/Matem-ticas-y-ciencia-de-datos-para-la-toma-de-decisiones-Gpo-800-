{
  "nbformat": 4,
  "nbformat_minor": 0,
  "metadata": {
    "colab": {
      "provenance": [],
      "authorship_tag": "ABX9TyPPQO6Qg6a5K0K2T0ZOlH6j",
      "include_colab_link": true
    },
    "kernelspec": {
      "name": "python3",
      "display_name": "Python 3"
    },
    "language_info": {
      "name": "python"
    }
  },
  "cells": [
    {
      "cell_type": "markdown",
      "metadata": {
        "id": "view-in-github",
        "colab_type": "text"
      },
      "source": [
        "<a href=\"https://colab.research.google.com/github/Moraytaprime/Matem-ticas-y-ciencia-de-datos-para-la-toma-de-decisiones-Gpo-800-/blob/main/Actividad_4.ipynb\" target=\"_parent\"><img src=\"https://colab.research.google.com/assets/colab-badge.svg\" alt=\"Open In Colab\"/></a>"
      ]
    },
    {
      "cell_type": "code",
      "execution_count": 2,
      "metadata": {
        "id": "F5lkjhcwxHXw"
      },
      "outputs": [],
      "source": [
        "#Importamos librearias requeridas\n",
        "import pandas as pd\n",
        "import numpy as nd\n",
        "#Librerias para el manejo de datos\n",
        "import matplotlib.pyplot as plt\n",
        "import seaborn as sns\n",
        "#Librerias para la graficacion de datos\n"
      ]
    },
    {
      "cell_type": "code",
      "execution_count": 6,
      "metadata": {
        "id": "Ggscz5_5mdbL",
        "colab": {
          "base_uri": "https://localhost:8080/"
        },
        "outputId": "32cce406-09e4-4be9-f773-6a41b4c81b5f"
      },
      "outputs": [
        {
          "output_type": "stream",
          "name": "stdout",
          "text": [
            "***Bienvendo a la calculadora de ahorro***\n",
            "Ingresa tu nombre:\n",
            "m\n",
            "Ingresa tu saldo inicial: 7111\n",
            "Ingresa tu saldo final: 8001\n",
            "Ingresa el número de meses que quieres ahorrar: 14\n",
            "m, si quieres tener un ahorro final de $8001.0 debes ahorrar $64.0 durante 14 meses\n"
          ]
        }
      ],
      "source": [
        "# con la función print() desplegamos texto en pantalla\n",
        "print(\"***Bienvendo a la calculadora de ahorro***\")\n",
        "\n",
        "# usamos la función input() para ingresar dato con el teclado y asignarlo a la variable nombre\n",
        "print(\"Ingresa tu nombre:\")\n",
        "nombre = input()\n",
        "\n",
        "# usamos la función float() para convertir texto a número decimal y int() a número entero\n",
        "saldo_inicial = float(input(\"Ingresa tu saldo inicial: \"))\n",
        "saldo_final = float(input(\"Ingresa tu saldo final: \"))\n",
        "meses = int(input(\"Ingresa el número de meses que quieres ahorrar: \"))\n",
        "\n",
        "# calculamos el ahorro\n",
        "ahorro = (saldo_final - saldo_inicial) / meses\n",
        "\n",
        "# usamos la función round() para redondear los resultados a cero decimales\n",
        "print(f\"{nombre}, si quieres tener un ahorro final de ${round(saldo_final, 0)} debes ahorrar ${round(ahorro, 0)} durante {meses} meses\")"
      ]
    },
    {
      "cell_type": "code",
      "source": [
        "print(\"***Bienvendo a la calculadora de intereses***\")\n",
        "\n",
        "# asignamos valores a las variables necesarias\n",
        "tasa_interes = 0.08\n",
        "interes_acumulado = 0\n",
        "nombre = input(\"Ingresa tu nombre: \")\n",
        "saldo = int(input(\"Ingresa tu saldo inicial: \"))\n",
        "deposito = int(input(\"Ingresa la cantidad a depositar en octubre: \"))\n",
        "retiro = int(input(\"Ingresa la cantidad a retirar en diciembre: \"))\n",
        "\n",
        "# usamos el ciclo for para calcular mes con mes los intereses y el saldo\n",
        "for mes in range(1, 12 + 1):\n",
        "\n",
        "  #calculamos el interés mensual y lo sumamos a los acumuladores de interés y saldo\n",
        "  interes_mensual = saldo * tasa_interes / 12\n",
        "  interes_acumulado = interes_acumulado + interes_mensual\n",
        "  saldo = saldo + interes_mensual\n",
        "\n",
        "  # evaluamos si el mes es octubre para depositar y diciembre para retirar\n",
        "  if mes == 10:\n",
        "    saldo = saldo + deposito\n",
        "\n",
        "  if mes == 12:\n",
        "    saldo = saldo - retiro\n",
        "\n",
        "  print(f\"El saldo en el mes {mes} es ${round(saldo, 0)}\")\n",
        "\n",
        "print(f\"El saldo al final de año en la cuenta de inversión será: ${round(saldo, 0)}\")\n",
        "print(f\"El interés ganado en un año será: ${round(interes_acumulado, 0)}\")"
      ],
      "metadata": {
        "colab": {
          "base_uri": "https://localhost:8080/"
        },
        "id": "us1XkhP-xI3p",
        "outputId": "db6e2556-a094-49c2-d625-91336cd0fc24"
      },
      "execution_count": null,
      "outputs": [
        {
          "output_type": "stream",
          "name": "stdout",
          "text": [
            "***Bienvendo a la calculadora de intereses***\n",
            "Ingresa tu nombre: migue\n",
            "Ingresa tu saldo inicial: 6000\n",
            "Ingresa la cantidad a depositar en octubre: 500\n",
            "Ingresa la cantidad a retirar en diciembre: -500\n",
            "El saldo en el mes 1 es $6040.0\n",
            "El saldo en el mes 2 es $6080.0\n",
            "El saldo en el mes 3 es $6121.0\n",
            "El saldo en el mes 4 es $6162.0\n",
            "El saldo en el mes 5 es $6203.0\n",
            "El saldo en el mes 6 es $6244.0\n",
            "El saldo en el mes 7 es $6286.0\n",
            "El saldo en el mes 8 es $6328.0\n",
            "El saldo en el mes 9 es $6370.0\n",
            "El saldo en el mes 10 es $6912.0\n",
            "El saldo en el mes 11 es $6958.0\n",
            "El saldo en el mes 12 es $7505.0\n",
            "El saldo al final de año en la cuenta de inversión será: $7505.0\n",
            "El interés ganado en un año será: $505.0\n"
          ]
        }
      ]
    }
  ]
}